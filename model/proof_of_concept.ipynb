{
 "cells": [
  {
   "cell_type": "code",
   "execution_count": 11,
   "metadata": {
    "collapsed": true
   },
   "outputs": [
    {
     "data": {
      "text/plain": "   age  has_anaemia  creatinine_phosphokinase_concentration_in_blood  \\\n0   75        False                                            582.0   \n1   55        False                                           7861.0   \n2   65        False                                            146.0   \n3   50         True                                            111.0   \n4   65         True                                            160.0   \n\n   has_diabetes  heart_ejection_fraction  has_high_blood_pressure  \\\n0         False                     20.0                     True   \n1         False                     38.0                    False   \n2         False                     20.0                    False   \n3         False                     20.0                    False   \n4          True                     20.0                    False   \n\n   platelets_concentration_in_blood  serum_creatinine_concentration_in_blood  \\\n0                         265000.00                                      1.9   \n1                         263358.03                                      1.1   \n2                         162000.00                                      1.3   \n3                         210000.00                                      1.9   \n4                         327000.00                                      2.7   \n\n   serum_sodium_concentration_in_blood  is_male  is_smoker  days_in_study  \\\n0                                130.0     True      False              4   \n1                                136.0     True      False              6   \n2                                129.0     True       True              7   \n3                                137.0     True      False              7   \n4                                116.0    False      False              8   \n\n   is_dead  \n0        1  \n1        1  \n2        1  \n3        1  \n4        1  ",
      "text/html": "<div>\n<style scoped>\n    .dataframe tbody tr th:only-of-type {\n        vertical-align: middle;\n    }\n\n    .dataframe tbody tr th {\n        vertical-align: top;\n    }\n\n    .dataframe thead th {\n        text-align: right;\n    }\n</style>\n<table border=\"1\" class=\"dataframe\">\n  <thead>\n    <tr style=\"text-align: right;\">\n      <th></th>\n      <th>age</th>\n      <th>has_anaemia</th>\n      <th>creatinine_phosphokinase_concentration_in_blood</th>\n      <th>has_diabetes</th>\n      <th>heart_ejection_fraction</th>\n      <th>has_high_blood_pressure</th>\n      <th>platelets_concentration_in_blood</th>\n      <th>serum_creatinine_concentration_in_blood</th>\n      <th>serum_sodium_concentration_in_blood</th>\n      <th>is_male</th>\n      <th>is_smoker</th>\n      <th>days_in_study</th>\n      <th>is_dead</th>\n    </tr>\n  </thead>\n  <tbody>\n    <tr>\n      <th>0</th>\n      <td>75</td>\n      <td>False</td>\n      <td>582.0</td>\n      <td>False</td>\n      <td>20.0</td>\n      <td>True</td>\n      <td>265000.00</td>\n      <td>1.9</td>\n      <td>130.0</td>\n      <td>True</td>\n      <td>False</td>\n      <td>4</td>\n      <td>1</td>\n    </tr>\n    <tr>\n      <th>1</th>\n      <td>55</td>\n      <td>False</td>\n      <td>7861.0</td>\n      <td>False</td>\n      <td>38.0</td>\n      <td>False</td>\n      <td>263358.03</td>\n      <td>1.1</td>\n      <td>136.0</td>\n      <td>True</td>\n      <td>False</td>\n      <td>6</td>\n      <td>1</td>\n    </tr>\n    <tr>\n      <th>2</th>\n      <td>65</td>\n      <td>False</td>\n      <td>146.0</td>\n      <td>False</td>\n      <td>20.0</td>\n      <td>False</td>\n      <td>162000.00</td>\n      <td>1.3</td>\n      <td>129.0</td>\n      <td>True</td>\n      <td>True</td>\n      <td>7</td>\n      <td>1</td>\n    </tr>\n    <tr>\n      <th>3</th>\n      <td>50</td>\n      <td>True</td>\n      <td>111.0</td>\n      <td>False</td>\n      <td>20.0</td>\n      <td>False</td>\n      <td>210000.00</td>\n      <td>1.9</td>\n      <td>137.0</td>\n      <td>True</td>\n      <td>False</td>\n      <td>7</td>\n      <td>1</td>\n    </tr>\n    <tr>\n      <th>4</th>\n      <td>65</td>\n      <td>True</td>\n      <td>160.0</td>\n      <td>True</td>\n      <td>20.0</td>\n      <td>False</td>\n      <td>327000.00</td>\n      <td>2.7</td>\n      <td>116.0</td>\n      <td>False</td>\n      <td>False</td>\n      <td>8</td>\n      <td>1</td>\n    </tr>\n  </tbody>\n</table>\n</div>"
     },
     "execution_count": 11,
     "metadata": {},
     "output_type": "execute_result"
    }
   ],
   "source": [
    "import pandas as pd\n",
    "import numpy as np\n",
    "import tensorflow as tf\n",
    "\n",
    "from keras import layers\n",
    "from datasets import load_dataset\n",
    "\n",
    "dataset = load_dataset(\"mstz/heart_failure\")[\"train\"]\n",
    "df = pd.DataFrame(dataset)\n",
    "\n",
    "df.head()"
   ]
  },
  {
   "cell_type": "code",
   "execution_count": 12,
   "outputs": [
    {
     "data": {
      "text/plain": "        age  has_anaemia  creatinine_phosphokinase_concentration_in_blood  \\\n0  0.789474          0.0                                         0.074036   \n1  0.578947          0.0                                         1.000000   \n2  0.684211          0.0                                         0.018573   \n3  0.526316          1.0                                         0.014120   \n4  0.684211          1.0                                         0.020354   \n\n   has_diabetes  heart_ejection_fraction  has_high_blood_pressure  \\\n0           0.0                    0.250                      1.0   \n1           0.0                    0.475                      0.0   \n2           0.0                    0.250                      0.0   \n3           0.0                    0.250                      0.0   \n4           1.0                    0.250                      0.0   \n\n   platelets_concentration_in_blood  serum_creatinine_concentration_in_blood  \\\n0                          0.311765                                 0.202128   \n1                          0.309833                                 0.117021   \n2                          0.190588                                 0.138298   \n3                          0.247059                                 0.202128   \n4                          0.384706                                 0.287234   \n\n   serum_sodium_concentration_in_blood  is_male  is_smoker  days_in_study  \\\n0                             0.878378      1.0        0.0       0.014035   \n1                             0.918919      1.0        0.0       0.021053   \n2                             0.871622      1.0        1.0       0.024561   \n3                             0.925676      1.0        0.0       0.024561   \n4                             0.783784      0.0        0.0       0.028070   \n\n   is_dead  \n0      1.0  \n1      1.0  \n2      1.0  \n3      1.0  \n4      1.0  ",
      "text/html": "<div>\n<style scoped>\n    .dataframe tbody tr th:only-of-type {\n        vertical-align: middle;\n    }\n\n    .dataframe tbody tr th {\n        vertical-align: top;\n    }\n\n    .dataframe thead th {\n        text-align: right;\n    }\n</style>\n<table border=\"1\" class=\"dataframe\">\n  <thead>\n    <tr style=\"text-align: right;\">\n      <th></th>\n      <th>age</th>\n      <th>has_anaemia</th>\n      <th>creatinine_phosphokinase_concentration_in_blood</th>\n      <th>has_diabetes</th>\n      <th>heart_ejection_fraction</th>\n      <th>has_high_blood_pressure</th>\n      <th>platelets_concentration_in_blood</th>\n      <th>serum_creatinine_concentration_in_blood</th>\n      <th>serum_sodium_concentration_in_blood</th>\n      <th>is_male</th>\n      <th>is_smoker</th>\n      <th>days_in_study</th>\n      <th>is_dead</th>\n    </tr>\n  </thead>\n  <tbody>\n    <tr>\n      <th>0</th>\n      <td>0.789474</td>\n      <td>0.0</td>\n      <td>0.074036</td>\n      <td>0.0</td>\n      <td>0.250</td>\n      <td>1.0</td>\n      <td>0.311765</td>\n      <td>0.202128</td>\n      <td>0.878378</td>\n      <td>1.0</td>\n      <td>0.0</td>\n      <td>0.014035</td>\n      <td>1.0</td>\n    </tr>\n    <tr>\n      <th>1</th>\n      <td>0.578947</td>\n      <td>0.0</td>\n      <td>1.000000</td>\n      <td>0.0</td>\n      <td>0.475</td>\n      <td>0.0</td>\n      <td>0.309833</td>\n      <td>0.117021</td>\n      <td>0.918919</td>\n      <td>1.0</td>\n      <td>0.0</td>\n      <td>0.021053</td>\n      <td>1.0</td>\n    </tr>\n    <tr>\n      <th>2</th>\n      <td>0.684211</td>\n      <td>0.0</td>\n      <td>0.018573</td>\n      <td>0.0</td>\n      <td>0.250</td>\n      <td>0.0</td>\n      <td>0.190588</td>\n      <td>0.138298</td>\n      <td>0.871622</td>\n      <td>1.0</td>\n      <td>1.0</td>\n      <td>0.024561</td>\n      <td>1.0</td>\n    </tr>\n    <tr>\n      <th>3</th>\n      <td>0.526316</td>\n      <td>1.0</td>\n      <td>0.014120</td>\n      <td>0.0</td>\n      <td>0.250</td>\n      <td>0.0</td>\n      <td>0.247059</td>\n      <td>0.202128</td>\n      <td>0.925676</td>\n      <td>1.0</td>\n      <td>0.0</td>\n      <td>0.024561</td>\n      <td>1.0</td>\n    </tr>\n    <tr>\n      <th>4</th>\n      <td>0.684211</td>\n      <td>1.0</td>\n      <td>0.020354</td>\n      <td>1.0</td>\n      <td>0.250</td>\n      <td>0.0</td>\n      <td>0.384706</td>\n      <td>0.287234</td>\n      <td>0.783784</td>\n      <td>0.0</td>\n      <td>0.0</td>\n      <td>0.028070</td>\n      <td>1.0</td>\n    </tr>\n  </tbody>\n</table>\n</div>"
     },
     "execution_count": 12,
     "metadata": {},
     "output_type": "execute_result"
    }
   ],
   "source": [
    "# Normalize columns and convert bools to 0-1\n",
    "\n",
    "def absolute_maximum_scale(series):\n",
    "    return series / series.abs().max()\n",
    "\n",
    "for col, col_type in zip(df.columns, df.dtypes):\n",
    "    if col_type == bool:\n",
    "        df[col] = df[col].map(float)\n",
    "    else:\n",
    "        df[col] = absolute_maximum_scale(df[col])\n",
    "\n",
    "df.head()"
   ],
   "metadata": {
    "collapsed": false
   }
  },
  {
   "cell_type": "code",
   "execution_count": 13,
   "outputs": [],
   "source": [
    "# Split input and output (X and Y)\n",
    "\n",
    "predict = 'is_dead'\n",
    "\n",
    "X = np.array(df.drop(predict, axis=1)) # Features\n",
    "y = np.array(df[predict]) # Labels\n"
   ],
   "metadata": {
    "collapsed": false
   }
  },
  {
   "cell_type": "code",
   "execution_count": 23,
   "outputs": [
    {
     "name": "stdout",
     "output_type": "stream",
     "text": [
      "Model: \"model_4\"\n",
      "_________________________________________________________________\n",
      " Layer (type)                Output Shape              Param #   \n",
      "=================================================================\n",
      " input_11 (InputLayer)       [(None, 12)]              0         \n",
      "                                                                 \n",
      " dense_11 (Dense)            (None, 12)                156       \n",
      "                                                                 \n",
      " dense_12 (Dense)            (None, 1)                 13        \n",
      "                                                                 \n",
      "=================================================================\n",
      "Total params: 169 (676.00 Byte)\n",
      "Trainable params: 169 (676.00 Byte)\n",
      "Non-trainable params: 0 (0.00 Byte)\n",
      "_________________________________________________________________\n"
     ]
    }
   ],
   "source": [
    "def build_model():\n",
    "    input_tensor = layers.Input(shape=(12,))\n",
    "\n",
    "    x = layers.Dense(12, activation='relu')(input_tensor)\n",
    "    x = layers.Dense(1, activation='sigmoid')(x)\n",
    "\n",
    "    model = tf.keras.models.Model(\n",
    "        inputs=input_tensor,\n",
    "        outputs=x\n",
    "    )\n",
    "    return model\n",
    "\n",
    "\n",
    "model = build_model()\n",
    "model.compile(loss='binary_crossentropy', optimizer='adam', metrics=['accuracy'])\n",
    "model.summary()"
   ],
   "metadata": {
    "collapsed": false
   }
  },
  {
   "cell_type": "code",
   "execution_count": 24,
   "outputs": [
    {
     "name": "stdout",
     "output_type": "stream",
     "text": [
      "Epoch 1/50\n",
      "27/27 [==============================] - 0s 4ms/step - loss: 0.7232 - accuracy: 0.4833 - val_loss: 0.7031 - val_accuracy: 0.3333\n",
      "Epoch 2/50\n",
      "27/27 [==============================] - 0s 1ms/step - loss: 0.6673 - accuracy: 0.5428 - val_loss: 0.5804 - val_accuracy: 0.8333\n",
      "Epoch 3/50\n",
      "27/27 [==============================] - 0s 1ms/step - loss: 0.6461 - accuracy: 0.6729 - val_loss: 0.5184 - val_accuracy: 0.9667\n",
      "Epoch 4/50\n",
      "27/27 [==============================] - 0s 1ms/step - loss: 0.6377 - accuracy: 0.6543 - val_loss: 0.4760 - val_accuracy: 1.0000\n",
      "Epoch 5/50\n",
      "27/27 [==============================] - 0s 1ms/step - loss: 0.6312 - accuracy: 0.6617 - val_loss: 0.4538 - val_accuracy: 1.0000\n",
      "Epoch 6/50\n",
      "27/27 [==============================] - 0s 1ms/step - loss: 0.6253 - accuracy: 0.6654 - val_loss: 0.4367 - val_accuracy: 1.0000\n",
      "Epoch 7/50\n",
      "27/27 [==============================] - 0s 1ms/step - loss: 0.6206 - accuracy: 0.6617 - val_loss: 0.4258 - val_accuracy: 1.0000\n",
      "Epoch 8/50\n",
      "27/27 [==============================] - 0s 1ms/step - loss: 0.6154 - accuracy: 0.6654 - val_loss: 0.3975 - val_accuracy: 1.0000\n",
      "Epoch 9/50\n",
      "27/27 [==============================] - 0s 1ms/step - loss: 0.6092 - accuracy: 0.6691 - val_loss: 0.3965 - val_accuracy: 1.0000\n",
      "Epoch 10/50\n",
      "27/27 [==============================] - 0s 1ms/step - loss: 0.6038 - accuracy: 0.6691 - val_loss: 0.3749 - val_accuracy: 1.0000\n",
      "Epoch 11/50\n",
      "27/27 [==============================] - 0s 1ms/step - loss: 0.5984 - accuracy: 0.6691 - val_loss: 0.3592 - val_accuracy: 1.0000\n",
      "Epoch 12/50\n",
      "27/27 [==============================] - 0s 1ms/step - loss: 0.5932 - accuracy: 0.6840 - val_loss: 0.3573 - val_accuracy: 1.0000\n",
      "Epoch 13/50\n",
      "27/27 [==============================] - 0s 1ms/step - loss: 0.5880 - accuracy: 0.6840 - val_loss: 0.3376 - val_accuracy: 1.0000\n",
      "Epoch 14/50\n",
      "27/27 [==============================] - 0s 1ms/step - loss: 0.5823 - accuracy: 0.6840 - val_loss: 0.3294 - val_accuracy: 1.0000\n",
      "Epoch 15/50\n",
      "27/27 [==============================] - 0s 1ms/step - loss: 0.5770 - accuracy: 0.6840 - val_loss: 0.3116 - val_accuracy: 1.0000\n",
      "Epoch 16/50\n",
      "27/27 [==============================] - 0s 1ms/step - loss: 0.5721 - accuracy: 0.6989 - val_loss: 0.3123 - val_accuracy: 1.0000\n",
      "Epoch 17/50\n",
      "27/27 [==============================] - 0s 1ms/step - loss: 0.5676 - accuracy: 0.6952 - val_loss: 0.2918 - val_accuracy: 1.0000\n",
      "Epoch 18/50\n",
      "27/27 [==============================] - 0s 1ms/step - loss: 0.5622 - accuracy: 0.7100 - val_loss: 0.2872 - val_accuracy: 1.0000\n",
      "Epoch 19/50\n",
      "27/27 [==============================] - 0s 1ms/step - loss: 0.5578 - accuracy: 0.7138 - val_loss: 0.2651 - val_accuracy: 1.0000\n",
      "Epoch 20/50\n",
      "27/27 [==============================] - 0s 1ms/step - loss: 0.5516 - accuracy: 0.7249 - val_loss: 0.2688 - val_accuracy: 1.0000\n",
      "Epoch 21/50\n",
      "27/27 [==============================] - 0s 1ms/step - loss: 0.5474 - accuracy: 0.7361 - val_loss: 0.2522 - val_accuracy: 1.0000\n",
      "Epoch 22/50\n",
      "27/27 [==============================] - 0s 1ms/step - loss: 0.5425 - accuracy: 0.7509 - val_loss: 0.2387 - val_accuracy: 1.0000\n",
      "Epoch 23/50\n",
      "27/27 [==============================] - 0s 1ms/step - loss: 0.5371 - accuracy: 0.7546 - val_loss: 0.2332 - val_accuracy: 1.0000\n",
      "Epoch 24/50\n",
      "27/27 [==============================] - 0s 1ms/step - loss: 0.5338 - accuracy: 0.7509 - val_loss: 0.2216 - val_accuracy: 1.0000\n",
      "Epoch 25/50\n",
      "27/27 [==============================] - 0s 1ms/step - loss: 0.5285 - accuracy: 0.7621 - val_loss: 0.2135 - val_accuracy: 1.0000\n",
      "Epoch 26/50\n",
      "27/27 [==============================] - 0s 1ms/step - loss: 0.5237 - accuracy: 0.7621 - val_loss: 0.2037 - val_accuracy: 1.0000\n",
      "Epoch 27/50\n",
      "27/27 [==============================] - 0s 1ms/step - loss: 0.5205 - accuracy: 0.7584 - val_loss: 0.1925 - val_accuracy: 1.0000\n",
      "Epoch 28/50\n",
      "27/27 [==============================] - 0s 1ms/step - loss: 0.5150 - accuracy: 0.7844 - val_loss: 0.1892 - val_accuracy: 1.0000\n",
      "Epoch 29/50\n",
      "27/27 [==============================] - 0s 1ms/step - loss: 0.5121 - accuracy: 0.7918 - val_loss: 0.1774 - val_accuracy: 1.0000\n",
      "Epoch 30/50\n",
      "27/27 [==============================] - 0s 1ms/step - loss: 0.5073 - accuracy: 0.7881 - val_loss: 0.1677 - val_accuracy: 1.0000\n",
      "Epoch 31/50\n",
      "27/27 [==============================] - 0s 1ms/step - loss: 0.5039 - accuracy: 0.7881 - val_loss: 0.1670 - val_accuracy: 1.0000\n",
      "Epoch 32/50\n",
      "27/27 [==============================] - 0s 1ms/step - loss: 0.5004 - accuracy: 0.7918 - val_loss: 0.1603 - val_accuracy: 1.0000\n",
      "Epoch 33/50\n",
      "27/27 [==============================] - 0s 1ms/step - loss: 0.4966 - accuracy: 0.8104 - val_loss: 0.1525 - val_accuracy: 1.0000\n",
      "Epoch 34/50\n",
      "27/27 [==============================] - 0s 1ms/step - loss: 0.4938 - accuracy: 0.7993 - val_loss: 0.1468 - val_accuracy: 1.0000\n",
      "Epoch 35/50\n",
      "27/27 [==============================] - 0s 1ms/step - loss: 0.4907 - accuracy: 0.8178 - val_loss: 0.1414 - val_accuracy: 1.0000\n",
      "Epoch 36/50\n",
      "27/27 [==============================] - 0s 1ms/step - loss: 0.4864 - accuracy: 0.8067 - val_loss: 0.1358 - val_accuracy: 1.0000\n",
      "Epoch 37/50\n",
      "27/27 [==============================] - 0s 1ms/step - loss: 0.4842 - accuracy: 0.8216 - val_loss: 0.1296 - val_accuracy: 1.0000\n",
      "Epoch 38/50\n",
      "27/27 [==============================] - 0s 1ms/step - loss: 0.4806 - accuracy: 0.8104 - val_loss: 0.1239 - val_accuracy: 1.0000\n",
      "Epoch 39/50\n",
      "27/27 [==============================] - 0s 1ms/step - loss: 0.4789 - accuracy: 0.8364 - val_loss: 0.1275 - val_accuracy: 1.0000\n",
      "Epoch 40/50\n",
      "27/27 [==============================] - 0s 1ms/step - loss: 0.4748 - accuracy: 0.8364 - val_loss: 0.1141 - val_accuracy: 1.0000\n",
      "Epoch 41/50\n",
      "27/27 [==============================] - 0s 1ms/step - loss: 0.4728 - accuracy: 0.8253 - val_loss: 0.1123 - val_accuracy: 1.0000\n",
      "Epoch 42/50\n",
      "27/27 [==============================] - 0s 1ms/step - loss: 0.4694 - accuracy: 0.8290 - val_loss: 0.1112 - val_accuracy: 1.0000\n",
      "Epoch 43/50\n",
      "27/27 [==============================] - 0s 1ms/step - loss: 0.4675 - accuracy: 0.8513 - val_loss: 0.1119 - val_accuracy: 1.0000\n",
      "Epoch 44/50\n",
      "27/27 [==============================] - 0s 1ms/step - loss: 0.4647 - accuracy: 0.8364 - val_loss: 0.1047 - val_accuracy: 1.0000\n",
      "Epoch 45/50\n",
      "27/27 [==============================] - 0s 1ms/step - loss: 0.4628 - accuracy: 0.8401 - val_loss: 0.1031 - val_accuracy: 1.0000\n",
      "Epoch 46/50\n",
      "27/27 [==============================] - 0s 1ms/step - loss: 0.4608 - accuracy: 0.8364 - val_loss: 0.0973 - val_accuracy: 1.0000\n",
      "Epoch 47/50\n",
      "27/27 [==============================] - 0s 1ms/step - loss: 0.4583 - accuracy: 0.8439 - val_loss: 0.0989 - val_accuracy: 1.0000\n",
      "Epoch 48/50\n",
      "27/27 [==============================] - 0s 1ms/step - loss: 0.4562 - accuracy: 0.8513 - val_loss: 0.0967 - val_accuracy: 1.0000\n",
      "Epoch 49/50\n",
      "27/27 [==============================] - 0s 1ms/step - loss: 0.4547 - accuracy: 0.8513 - val_loss: 0.0942 - val_accuracy: 1.0000\n",
      "Epoch 50/50\n",
      "27/27 [==============================] - 0s 1ms/step - loss: 0.4523 - accuracy: 0.8476 - val_loss: 0.0865 - val_accuracy: 1.0000\n"
     ]
    },
    {
     "data": {
      "text/plain": "<keras.src.callbacks.History at 0x1cdf8f58d10>"
     },
     "execution_count": 24,
     "metadata": {},
     "output_type": "execute_result"
    }
   ],
   "source": [
    "model.fit(X, y, validation_split=0.1, epochs=50, batch_size=10)"
   ],
   "metadata": {
    "collapsed": false
   }
  },
  {
   "cell_type": "code",
   "execution_count": 25,
   "outputs": [
    {
     "name": "stdout",
     "output_type": "stream",
     "text": [
      "10/10 [==============================] - 0s 1ms/step - loss: 0.4141 - accuracy: 0.8562\n",
      "Accuracy: 85.62\n"
     ]
    }
   ],
   "source": [
    "loss, accuracy = model.evaluate(X, y)\n",
    "print('Accuracy: %.2f' % (accuracy*100))"
   ],
   "metadata": {
    "collapsed": false
   }
  },
  {
   "cell_type": "code",
   "execution_count": null,
   "outputs": [],
   "source": [],
   "metadata": {
    "collapsed": false
   }
  }
 ],
 "metadata": {
  "kernelspec": {
   "display_name": "Python 3",
   "language": "python",
   "name": "python3"
  },
  "language_info": {
   "codemirror_mode": {
    "name": "ipython",
    "version": 2
   },
   "file_extension": ".py",
   "mimetype": "text/x-python",
   "name": "python",
   "nbconvert_exporter": "python",
   "pygments_lexer": "ipython2",
   "version": "2.7.6"
  }
 },
 "nbformat": 4,
 "nbformat_minor": 0
}
